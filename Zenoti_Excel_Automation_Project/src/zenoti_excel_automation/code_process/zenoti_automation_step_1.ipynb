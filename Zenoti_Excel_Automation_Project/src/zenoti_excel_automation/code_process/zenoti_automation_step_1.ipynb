{
 "cells": [
  {
   "cell_type": "code",
   "execution_count": 5,
   "id": "136af6b9",
   "metadata": {},
   "outputs": [],
   "source": [
    "# Zenoti Excel Automation Project\n",
    "# Author: Daniel Posada\n",
    "# Date: 04-12-2025\n",
    "# Description: This script automates the process of downloading and processing Excel files from Zenoti."
   ]
  },
  {
   "cell_type": "code",
   "execution_count": 6,
   "id": "0bc25c7c",
   "metadata": {},
   "outputs": [],
   "source": [
    "# Import necessary libraries\n",
    "import os\n",
    "from pathlib import Path\n",
    "import polars as pl\n",
    "import requests\n",
    "from dotenv import load_dotenv\n",
    "from datetime import datetime as dt"
   ]
  },
  {
   "cell_type": "code",
   "execution_count": null,
   "id": "d01f0008",
   "metadata": {},
   "outputs": [],
   "source": [
    "# Collect environment variables\n",
    "cwd = Path(os.getcwd())\n",
    "package_dir = Path(os.path.dirname(cwd))\n",
    "config_path = package_dir / \"assets\" / \"config.env\"\n",
    "load_dotenv(config_path)\n",
    "\n",
    "# Set up api key and url\n",
    "zenoti_api_key = os.getenv(\"ZENOTI_API_KEY\")\n",
    "zenoti_url = os.getenv('ZENOTI_URL')\n",
    "\n",
    "# Function to connect to Zenoti API\n",
    "def connect_to_zenoti(api_key, url):\n",
    "    \"\"\"\n",
    "    Connect to Zenoti API using the provided API key.\n",
    "    \"\"\"\n",
    "    headers = {\n",
    "        \"accept\": \"application/json\",\n",
    "        \"Authorization\": \"apikey {}\".format(api_key)\n",
    "    }\n",
    "\n",
    "    response = requests.get(url, headers=headers)\n",
    "    if response.status_code == 200:\n",
    "        return response.json()\n",
    "    else:\n",
    "        raise Exception(\"Failed to connect to Zenoti API: {}\".format(response.text))"
   ]
  }
 ],
 "metadata": {
  "kernelspec": {
   "display_name": ".venv",
   "language": "python",
   "name": "python3"
  },
  "language_info": {
   "codemirror_mode": {
    "name": "ipython",
    "version": 3
   },
   "file_extension": ".py",
   "mimetype": "text/x-python",
   "name": "python",
   "nbconvert_exporter": "python",
   "pygments_lexer": "ipython3",
   "version": "3.12.3"
  }
 },
 "nbformat": 4,
 "nbformat_minor": 5
}
